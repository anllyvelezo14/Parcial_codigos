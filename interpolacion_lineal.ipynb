{
 "cells": [
  {
   "cell_type": "code",
   "execution_count": 22,
   "metadata": {},
   "outputs": [],
   "source": [
    "import numpy as np\n",
    "import matplotlib.pyplot as plt "
   ]
  },
  {
   "cell_type": "code",
   "execution_count": 23,
   "metadata": {},
   "outputs": [],
   "source": [
    "#def funcion\n",
    "def f(x):\n",
    "    return np.cos(x)"
   ]
  },
  {
   "cell_type": "code",
   "execution_count": 24,
   "metadata": {},
   "outputs": [],
   "source": [
    "#puntos experimentales\n",
    "x_list=[.2,.4,.6,.8,1,1.2]\n",
    "y_list=[f(.2),f(.4),f(.6),f(.8),f(1),f(1.2)]"
   ]
  },
  {
   "cell_type": "code",
   "execution_count": 27,
   "metadata": {},
   "outputs": [
    {
     "name": "stdout",
     "output_type": "stream",
     "text": [
      "0.7610211621284219\n"
     ]
    }
   ],
   "source": [
    "def Interpoladorlienal(x_list,y_list,x):\n",
    "    for i in range(0,len(x_list)-1):\n",
    "        if(x>=x_list[i] and x<=x_list[i+1]):\n",
    "            x_prev=x_list[i]\n",
    "            y_prev=y_list[i] \n",
    "            x_next= x_list[i+1]\n",
    "            y_next= y_list[i+1]\n",
    "            y=(y_next-y_prev)/(x_next-x_prev)*(x-x_prev)+y_prev\n",
    "            return y\n",
    "        \n",
    "\n",
    "print(Interpoladorlienal(x_list,y_list,.7))"
   ]
  },
  {
   "cell_type": "code",
   "execution_count": 26,
   "metadata": {},
   "outputs": [],
   "source": [
    "x_interpol=np.linspace(min(x_list),max(x_list),1000)\n",
    "y_interpol=[]\n",
    "for i in range(0,len(x_interpol)):\n",
    "    y_interpol.append(Interpoladorlienal(x_list,y_list,x_interpol[i]))\n"
   ]
  },
  {
   "cell_type": "code",
   "execution_count": 19,
   "metadata": {},
   "outputs": [
    {
     "data": {
      "image/png": "[encoded data removed]",
      "text/plain": [
       "<matplotlib.figure.Figure at 0x7fcde23df898>"
      ]
     },
     "metadata": {},
     "output_type": "display_data"
    }
   ],
   "source": [
    "fig=plt.figure()\n",
    "ax=plt.axes()\n",
    "ax.plot(x_list,y_list,\"*\",markersize=\"10\",label=\"datos discretos\")\n",
    "ax.plot(x_interpol,y_interpol,\".\",label=\"puntos interpolados\")\n",
    "ax.plot(x_interpol,np.cos(x_interpol),label=\"cos(x)\")\n",
    "ax.legend()\n",
    "plt.grid()\n",
    "plt.show()"
   ]
  },
  {
   "cell_type": "code",
   "execution_count": 20,
   "metadata": {},
   "outputs": [
    {
     "name": "stdout",
     "output_type": "stream",
     "text": [
      "error=  4.269782898241643\n",
      "0.8619999659687099\n",
      "0.9004471023526769\n"
     ]
    }
   ],
   "source": [
    "#determinemos el error e un punto de el polinomio interpolante vs la funcion real\n",
    "y_der=Interpoladorlienal(x_list,y_list,0.45)\n",
    "y_exac=f(.45)\n",
    "error=abs((y_der-y_exac)/y_exac*100)\n",
    "print(\"error= \",error)\n",
    "print(Interpoladorlienal(x_list,y_list,0.45))\n",
    "print(f(.45))"
   ]
  },
  {
   "cell_type": "code",
   "execution_count": null,
   "metadata": {},
   "outputs": [],
   "source": []
  },
  {
   "cell_type": "code",
   "execution_count": null,
   "metadata": {},
   "outputs": [],
   "source": []
  }
 ],
 "metadata": {
  "kernelspec": {
   "display_name": "Python 3",
   "language": "python",
   "name": "python3"
  },
  "language_info": {
   "codemirror_mode": {
    "name": "ipython",
    "version": 3
   },
   "file_extension": ".py",
   "mimetype": "text/x-python",
   "name": "python",
   "nbconvert_exporter": "python",
   "pygments_lexer": "ipython3",
   "version": "3.6.4"
  }
 },
 "nbformat": 4,
 "nbformat_minor": 2
}
