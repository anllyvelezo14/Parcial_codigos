{
 "cells": [
  {
   "cell_type": "markdown",
   "metadata": {},
   "source": [
    "# Método de Newton Rapshon"
   ]
  },
  {
   "cell_type": "code",
   "execution_count": 4,
   "metadata": {},
   "outputs": [],
   "source": [
    "import numpy as np\n",
    "import matplotlib.pyplot as plt"
   ]
  },
  {
   "cell_type": "code",
   "execution_count": 5,
   "metadata": {},
   "outputs": [],
   "source": [
    "#def funcion y def derivada de la funcion\n",
    "def f(x):\n",
    "    value=np.exp(x)+2**(-x)+2*np.cos(x)-6\n",
    "    return value\n",
    "def dfdx(x):\n",
    "    value=np.exp(x)-2**(-x)*np.log(2)-2*np.sin(x)\n",
    "    return value"
   ]
  },
  {
   "cell_type": "code",
   "execution_count": 6,
   "metadata": {},
   "outputs": [
    {
     "data": {
      "image/png": "[encoded data removed]",
      "text/plain": [
       "<matplotlib.figure.Figure at 0x7f391d51fb38>"
      ]
     },
     "metadata": {},
     "output_type": "display_data"
    }
   ],
   "source": [
    "#graficación de la función\n",
    "x=np.arange(1,3,.1)\n",
    "y=f(x)\n",
    "plt.plot(x,y)\n",
    "plt.grid()\n",
    "plt.show()"
   ]
  },
  {
   "cell_type": "code",
   "execution_count": 7,
   "metadata": {},
   "outputs": [
    {
     "name": "stdout",
     "output_type": "stream",
     "text": [
      "f(p)=24.32727 para p=3.46980\n",
      "f(p)=7.59488 para p=2.72613\n",
      "f(p)=2.04605 para p=2.19729\n",
      "f(p)=0.37379 para p=1.91427\n",
      "f(p)=0.02313 para p=1.83500\n",
      "f(p)=0.00011 para p=1.82941\n",
      "f(p)=0.00000 para p=1.82938\n",
      "f(p)=0.00000 para p=1.82938\n",
      "f(p)=0.00000 para p=1.82938\n",
      "f(p)=0.00000 para p=1.82938\n",
      "la raiz de la funcion f(x)=0.000000  es x=1.829384 con un error=0.000000\n"
     ]
    }
   ],
   "source": [
    "p_prev=1. #punto inicial \n",
    "Tol=1.0e-16\n",
    "Nmax=1000\n",
    "error=1.0\n",
    "iteracion=0\n",
    "\n",
    "while(error>Tol):\n",
    "    p=p_prev-f(p_prev)/dfdx(p_prev)\n",
    "    error=abs(p-p_prev)\n",
    "    p_prev=p\n",
    "    iteracion=+1\n",
    "    print(\"f(p)=%.5f para p=%.5f\"%(f(p), p))\n",
    "    if(iteracion>=Nmax):\n",
    "        print(\"El método no converge\")\n",
    "        break  \n",
    "print(\"la raiz de la funcion f(x)=%.6f  es x=%.6f con un error=%.6f\"%(f(p), p,error))"
   ]
  },
  {
   "cell_type": "code",
   "execution_count": null,
   "metadata": {},
   "outputs": [],
   "source": []
  },
  {
   "cell_type": "code",
   "execution_count": null,
   "metadata": {},
   "outputs": [],
   "source": []
  }
 ],
 "metadata": {
  "kernelspec": {
   "display_name": "Python 3",
   "language": "python",
   "name": "python3"
  },
  "language_info": {
   "codemirror_mode": {
    "name": "ipython",
    "version": 3
   },
   "file_extension": ".py",
   "mimetype": "text/x-python",
   "name": "python",
   "nbconvert_exporter": "python",
   "pygments_lexer": "ipython3",
   "version": "3.6.4"
  }
 },
 "nbformat": 4,
 "nbformat_minor": 2
}
