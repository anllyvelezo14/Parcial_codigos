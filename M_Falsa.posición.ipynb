{
 "cells": [
  {
   "cell_type": "markdown",
   "metadata": {},
   "source": [
    "# El método de la falsa posición"
   ]
  },
  {
   "cell_type": "code",
   "execution_count": null,
   "metadata": {},
   "outputs": [],
   "source": []
  },
  {
   "cell_type": "markdown",
   "metadata": {},
   "source": [
    "Resolver la ecuación \n",
    "$2-x+3sin(x)$\n",
    "usando el método de la falsa posición"
   ]
  },
  {
   "cell_type": "code",
   "execution_count": 2,
   "metadata": {},
   "outputs": [],
   "source": [
    "#Librerías útiles\n",
    "import numpy as np\n"
   ]
  },
  {
   "cell_type": "code",
   "execution_count": 3,
   "metadata": {},
   "outputs": [],
   "source": [
    "#La función a resolver\n",
    "def f(x):\n",
    "    return p*v**3-v**2*(p*b+r*t)+a*v-a*b"
   ]
  },
  {
   "cell_type": "code",
   "execution_count": 4,
   "metadata": {},
   "outputs": [],
   "source": [
    "#Inputs\n",
    "p_prev_2=2\n",
    "p_prev_1=3\n",
    "Tol=1e-8\n",
    "error=1.0\n",
    "Nmax=1000\n",
    "i=0"
   ]
  },
  {
   "cell_type": "code",
   "execution_count": 13,
   "metadata": {},
   "outputs": [
    {
     "ename": "SyntaxError",
     "evalue": "invalid syntax (<ipython-input-13-7576847493b9>, line 17)",
     "output_type": "error",
     "traceback": [
      "\u001b[0;36m  File \u001b[0;32m\"<ipython-input-13-7576847493b9>\"\u001b[0;36m, line \u001b[0;32m17\u001b[0m\n\u001b[0;31m    if(i > Nmax):\u001b[0m\n\u001b[0m                ^\u001b[0m\n\u001b[0;31mSyntaxError\u001b[0m\u001b[0;31m:\u001b[0m invalid syntax\n"
     ]
    }
   ],
   "source": [
    "#Implementación del algoritmo\n",
    "\n",
    "while(error>Tol):\n",
    "    print(\".\")\n",
    "    i=i+1\n",
    "    p=p_prev_1-((p_prev_1-p_prev_2)*f(p_prev_1))/(f(p_prev_1)-f(p_prev_2))\n",
    "    error=abs(p-p_prev_1)\n",
    "    if(f(p)*f(p_prev_1)<0):\n",
    "        p_prev_2=p_prev_1\n",
    "        p_prev_1=p\n",
    "    elif(f(p)*f(p_prev_1)>0):\n",
    "        p_prev_1=p_prev_2\n",
    "        p_prev_2=p\n",
    "    \n",
    "    print(\"p_n= %.16f\\t error= %.16f\\t abs(f(pn))= %.16f\"%(p,error,f(p))\n",
    "    \n",
    "    if(i > Nmax):\n",
    "        print(\"El método no converge  después de %i iteraciones\"%(Nmax))\n",
    "        break"
   ]
  },
  {
   "cell_type": "markdown",
   "metadata": {},
   "source": [
    "# Catalina code\n"
   ]
  },
  {
   "cell_type": "code",
   "execution_count": 8,
   "metadata": {},
   "outputs": [
    {
     "name": "stdout",
     "output_type": "stream",
     "text": [
      "p_n=5.0000000000000000\t error=0.0000000000000000\t abs(f(p_n))=5.8767728239894153\n"
     ]
    }
   ],
   "source": [
    "import numpy as np\n",
    "\n",
    "\n",
    "def f(x):\n",
    "    value=2-x+3*np.sin(x)\n",
    "    return value\n",
    "\n",
    "\n",
    "#Inputs \n",
    "p_prev_2=0.\n",
    "p_prev_1=5.\n",
    "Tol=1e-8\n",
    "error=1.\n",
    "Nmax=100\n",
    "iteracion=0\n",
    "\n",
    "#El algoritmo\n",
    "while(error>Tol):\n",
    "    p=p_prev_1-(p_prev_2)*f(p_prev_1)/(f(p_prev_1)-f(p_prev_2))\n",
    "    error=abs(p-p_prev_1)\n",
    "    if(f(p)*f(p_prev_1)):\n",
    "        p_prev_2=p_prev_1\n",
    "        p_prev_1=p\n",
    "        print(\"p_n=%.16f\\t error=%.16f\\t abs(f(p_n))=%.16f\"%(p,error,abs(f(p))))\n",
    "    elif(f(p)*f(p_prev_1)>0):\n",
    "        p_prev_1=p_prev_2\n",
    "        p_prev_2=p\n",
    "        print(\"p_n=%.16f\\t error=%.16f\\t abs(f(p_n))=%.16f\"%(p,error,abs(f(p))))\n",
    "    iteracion=iteracion+1\n",
    "    if(iteracion>=Nmax):\n",
    "        print(\"El metrodo no converge despues de %d iteraciones\"%Nmax)\n",
    "        break"
   ]
  },
  {
   "cell_type": "code",
   "execution_count": null,
   "metadata": {},
   "outputs": [],
   "source": []
  }
 ],
 "metadata": {
  "kernelspec": {
   "display_name": "Python 3",
   "language": "python",
   "name": "python3"
  },
  "language_info": {
   "codemirror_mode": {
    "name": "ipython",
    "version": 3
   },
   "file_extension": ".py",
   "mimetype": "text/x-python",
   "name": "python",
   "nbconvert_exporter": "python",
   "pygments_lexer": "ipython3",
   "version": "3.6.4"
  }
 },
 "nbformat": 4,
 "nbformat_minor": 2
}
