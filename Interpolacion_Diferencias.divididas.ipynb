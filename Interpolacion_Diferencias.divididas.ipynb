{
 "cells": [
  {
   "cell_type": "code",
   "execution_count": 2,
   "metadata": {},
   "outputs": [
    {
     "name": "stdout",
     "output_type": "stream",
     "text": [
      "[[ 0.620086   -0.5220232  -0.08974267  0.06636556  0.00266667 -0.00277469]\n",
      " [ 0.          0.620086   -0.548946   -0.069833    0.06796556  0.00100185]\n",
      " [ 0.          0.          0.4554022  -0.5698959  -0.02905367  0.06856667]\n",
      " [ 0.          0.          0.          0.4554022  -0.578612   -0.00848367]\n",
      " [ 0.          0.          0.          0.          0.2818186  -0.5811571 ]\n",
      " [ 0.          0.          0.          0.          0.          0.2818186 ]]\n"
     ]
    }
   ],
   "source": [
    "import numpy as np\n",
    "import matplotlib.pyplot as plt\n",
    "\n",
    "# Datos experimentales\n",
    "x_list=[1.3,1.6,1.9]\n",
    "y_list=[0.6200860,0.4554022,0.2818186]\n",
    "dydx_list=[-0.5220232,-0.5698959,-0.5811571]\n",
    "\n",
    "def DiferenciaDividida(x_list,y_list):\n",
    "    n=len(x_list)\n",
    "    # Creando lista z\n",
    "    z=np.zeros(2*n)\n",
    "    \n",
    "    #Llenando lista Z\n",
    "    for i in range(0,n):\n",
    "        z[2*i]=x_list[i]\n",
    "        z[2*i+1]=z[2*i]\n",
    "    \n",
    "    #Creando matriz de ceros\n",
    "    a=np.zeros((2*n,2*n))\n",
    "    \n",
    "    #Llenando elementos de la diagonal\n",
    "    for i in range(0,2*n):\n",
    "        for j in range(0,2*n):\n",
    "            if i==j:\n",
    "                a[i][j] = y_list[int(i/2)]\n",
    "\n",
    "    for k in range(1,2*n):\n",
    "        for i in range(0,2*n-1): # Limite superior evita la diagnoal\n",
    "            for j in range(1,2*n): # Limite inferior evita la diagnoal\n",
    "                if j!=i and j==i+k and z[j]!=z[i]:\n",
    "                    a[i][j]=(a[i+1][j]-a[i][j-1])/(z[j]-z[i])\n",
    "                elif j!=i and j==i+k and z[j]==z[i]:\n",
    "                    a[i][j]=dydx_list[int(i/2)]\n",
    "\n",
    "    return a\n",
    "\n",
    "print(DiferenciaDividida(x_list,y_list))"
   ]
  },
  {
   "cell_type": "markdown",
   "metadata": {},
   "source": [
    "# Como función "
   ]
  },
  {
   "cell_type": "code",
   "execution_count": 3,
   "metadata": {},
   "outputs": [],
   "source": [
    "# Datos experimentales\n",
    "x_list=[1.0,1.3,1.6,1.9,2.2]\n",
    "y_list=[0.7651977,0.6200860,0.4554022,0.2818186,0.1103623]\n",
    "\n",
    "\n",
    "def DiferenciaDividida(x_list,y_list):\n",
    "    n=len(x_list)\n",
    "    # Creando matriz de ceros\n",
    "    a=np.zeros((n,n))\n",
    "    # Llenando elementos de la diagonal\n",
    "    for i in range(0,n):\n",
    "        for j in range(0,n):\n",
    "            if i==j:\n",
    "                a[i][j] = y_list[i]\n",
    "    for k in range(1,n):\n",
    "        for i in range(0,n-1): # Limite superior evita la diagnoal\n",
    "            for j in range(1,n): # Limite inferior evita la diagnoal\n",
    "                if j!=i and j==i+k:\n",
    "                    a[i][j]=(a[i+1][j]-a[i][j-1])/(x_list[j]-x_list[i])\n",
    "    return a\n",
    "\n",
    "\n"
   ]
  },
  {
   "cell_type": "code",
   "execution_count": null,
   "metadata": {},
   "outputs": [],
   "source": []
  }
 ],
 "metadata": {
  "kernelspec": {
   "display_name": "Python 3",
   "language": "python",
   "name": "python3"
  },
  "language_info": {
   "codemirror_mode": {
    "name": "ipython",
    "version": 3
   },
   "file_extension": ".py",
   "mimetype": "text/x-python",
   "name": "python",
   "nbconvert_exporter": "python",
   "pygments_lexer": "ipython3",
   "version": "3.6.4"
  }
 },
 "nbformat": 4,
 "nbformat_minor": 2
}
