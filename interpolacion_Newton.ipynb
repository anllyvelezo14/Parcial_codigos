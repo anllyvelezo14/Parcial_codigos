{
 "cells": [
  {
   "cell_type": "markdown",
   "metadata": {},
   "source": [
    "# Interpolación vía diferencias divididas"
   ]
  },
  {
   "cell_type": "code",
   "execution_count": 9,
   "metadata": {},
   "outputs": [],
   "source": [
    "import numpy as np\n",
    "import matplotlib.pyplot as plt"
   ]
  },
  {
   "cell_type": "code",
   "execution_count": 17,
   "metadata": {},
   "outputs": [],
   "source": [
    "#def funcion\n",
    "def func(x):\n",
    "    return np.log(x+1)\n"
   ]
  },
  {
   "cell_type": "code",
   "execution_count": 18,
   "metadata": {},
   "outputs": [],
   "source": [
    "#puntos experimentales\n",
    "x_list=[1.0,1.3,1.6,1.9,2.2]\n",
    "y_list=[func(1.0),func(1.3),func(1.6),func(1.9),func(2.2)]\n",
    "n=len(x_list)\n",
    "f=np.zeros((n,n))\n"
   ]
  },
  {
   "cell_type": "code",
   "execution_count": 19,
   "metadata": {},
   "outputs": [],
   "source": [
    "#matriz diferencias divididas\n",
    "for i in range(0,n):\n",
    "        f[i][0]=y_list[i]\n",
    "for i in range(1,n-1):\n",
    "    for j in range(1,i+1):\n",
    "        f[i][j]=(f[i][j-1]-f[i-1][j-1])/(x_list[i]-x_list[i-j])           \n",
    "        \n",
    "def PoliLagrange(x_list,y_list,x):\n",
    "    sum=y_list[0]\n",
    "    for i in range(1,len(x_list)):\n",
    "        prod=1\n",
    "        for j in range(0,i):\n",
    "                prod=prod*(x-x_list[j])\n",
    "        sum=sum+f[i][i]*prod\n",
    "    return sum\n",
    "#print(PoliLagrange(x_list,y_list,1.45))                           "
   ]
  },
  {
   "cell_type": "code",
   "execution_count": 21,
   "metadata": {},
   "outputs": [],
   "source": [
    "#evaluemos el polinomio hallado por diferencias divididas\n",
    "x_array=np.linspace(min(x_list),max(x_list),100)\n",
    "y_array=[]\n",
    "for i in range(0,len(x_array)):\n",
    "    y_array.append(PoliLagrange(x_list,y_list,x_array[i]))\n",
    "    "
   ]
  },
  {
   "cell_type": "code",
   "execution_count": 22,
   "metadata": {},
   "outputs": [
    {
     "data": {
      "image/png": "[encoded data removed]",
      "text/plain": [
       "<Figure size 432x288 with 1 Axes>"
      ]
     },
     "metadata": {
      "needs_background": "light"
     },
     "output_type": "display_data"
    }
   ],
   "source": [
    "#grafiquemos\n",
    "fig=plt.figure()\n",
    "ax=plt.axes()\n",
    "ax.plot(x_list,y_list,\"*\")\n",
    "ax.plot(x_array,y_array)\n",
    "plt.grid()\n",
    "plt.show()"
   ]
  },
  {
   "cell_type": "code",
   "execution_count": 25,
   "metadata": {},
   "outputs": [
    {
     "name": "stdout",
     "output_type": "stream",
     "text": [
      "error=  0.003618514518798105\n",
      "0.8961204496319055\n",
      "0.8960880245566357\n"
     ]
    }
   ],
   "source": [
    "#determinemos el error e un punto de el polinomio interpolante vs la funcion real\n",
    "y_der=PoliLagrange(x_list,y_list,1.45)\n",
    "y_exac=func(1.45)\n",
    "error=abs((y_der-y_exac)/y_exac*100)\n",
    "print(\"error= \",error)\n",
    "print(PoliLagrange(x_list,y_list,1.45))\n",
    "print(func(1.45))"
   ]
  },
  {
   "cell_type": "markdown",
   "metadata": {
    "collapsed": true
   },
   "source": [
    "# Como funcion"
   ]
  },
  {
   "cell_type": "code",
   "execution_count": null,
   "metadata": {},
   "outputs": [],
   "source": [
    "\n",
    "import numpy as np\n",
    "import matplotlib.pyplot as plt\n",
    "\n",
    "\n",
    "# Datos experimentales\n",
    "x_list=[1.0,1.3,1.6,1.9,2.2]\n",
    "y_list=[0.7651977,0.6200860,0.4554022,0.2818186,0.1103623]\n",
    "\n",
    "\n",
    "def DiferenciaDividida(x_list,y_list):\n",
    "    n=len(x_list)\n",
    "    # Creando matriz de ceros\n",
    "    a=np.zeros((n,n))\n",
    "    # Llenando elementos de la diagonal\n",
    "    for i in range(0,n):\n",
    "        for j in range(0,n):\n",
    "            if i==j:\n",
    "                a[i][j] = y_list[i]\n",
    "    for k in range(1,n):\n",
    "        for i in range(0,n-1): # Limite superior evita la diagnoal\n",
    "            for j in range(1,n): # Limite inferior evita la diagnoal\n",
    "                if j!=i and j==i+k:\n",
    "                    a[i][j]=(a[i+1][j]-a[i][j-1])/(x_list[j]-x_list[i])\n",
    "    return a\n",
    "\n",
    "\n",
    "def PolyNewton(x_list,y_list,x):\n",
    "    n=len(x_list) # Número de datos experimentales\n",
    "    sum=0\n",
    "    for i in range(1,n):\n",
    "        prod=1\n",
    "        for j in range(0,i):\n",
    "            prod=prod*(x-x_list[j])\n",
    "        sum=sum+prod*a[0][i]\n",
    "    P=a[0][0]+sum\n",
    "    return P\n",
    "\n",
    "\n",
    "\n",
    "x_interpolado=np.linspace(min(x_list),max(x_list),5000)\n",
    "y_interpolado=PolyNewton(x_list,y_list,x_interpolado)\n",
    "\n",
    "\n",
    "\n",
    "fig=plt.figure()\n",
    "ax=plt.axes()\n",
    "ax.plot(x_list,y_list,'.')\n",
    "ax.plot(x_interpolado,y_interpolado,'-')\n",
    "plt.show()"
   ]
  }
 ],
 "metadata": {
  "kernelspec": {
   "display_name": "Python 3",
   "language": "python",
   "name": "python3"
  },
  "language_info": {
   "codemirror_mode": {
    "name": "ipython",
    "version": 3
   },
   "file_extension": ".py",
   "mimetype": "text/x-python",
   "name": "python",
   "nbconvert_exporter": "python",
   "pygments_lexer": "ipython3",
   "version": "3.6.4"
  }
 },
 "nbformat": 4,
 "nbformat_minor": 2
}
