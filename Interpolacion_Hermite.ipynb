{
 "cells": [
  {
   "cell_type": "code",
   "execution_count": 49,
   "metadata": {},
   "outputs": [],
   "source": [
    "import numpy as np\n",
    "import matplotlib.pyplot as plt"
   ]
  },
  {
   "cell_type": "code",
   "execution_count": 50,
   "metadata": {},
   "outputs": [],
   "source": [
    "#def funcion y derivada de la función\n",
    "def f(x):\n",
    "    return np.sin(x)\n",
    "def df(x):\n",
    "    return np.cos(x)"
   ]
  },
  {
   "cell_type": "code",
   "execution_count": 51,
   "metadata": {},
   "outputs": [],
   "source": [
    "#puntos experimentales\n",
    "x_list=[.2,.4,.6,.8,1,1.4,1.8,2.4]\n",
    "y_list=[f(.2),f(.4),f(.6),f(.8),f(1),f(1.4),f(1.8),f(2.4)]\n",
    "dydx_list=[df(.2),df(.4),df(.6),df(.8),df(1),df(1.4),df(1.8),df(2.4)]"
   ]
  },
  {
   "cell_type": "code",
   "execution_count": 52,
   "metadata": {},
   "outputs": [],
   "source": [
    "#matriz de hermite\n",
    "z=np.zeros(2*len(x_list))\n",
    "Q=np.zeros((2*len(x_list),2*len(x_list)))\n",
    "for i in range(0,len(x_list)):\n",
    "    z[2*i]=x_list[i]\n",
    "    z[2*i+1]=x_list[i] \n",
    "    Q[2*i][0]=y_list[i]\n",
    "    Q[2*i+1][0]=y_list[i]\n",
    "    Q[2*i+1][1]=dydx_list[i]\n",
    "    if(i!=0):\n",
    "        Q[2*i][1]=(Q[2*i-1][0]-Q[2*i][0])/(z[2*i-1]-z[2*i])\n",
    "for i in range(2,2*len(x_list)):\n",
    "    for j in range(2,i+1):\n",
    "        Q[i][j]=(Q[i][j-1]-Q[i-1][j-1])/(z[i]-z[i-j])\n",
    "  "
   ]
  },
  {
   "cell_type": "code",
   "execution_count": 53,
   "metadata": {},
   "outputs": [],
   "source": [
    "#polinomio de hermite\n",
    "def PoliHermite(x_list,y_list,x):\n",
    "    sum=y_list[0]\n",
    "    for i in range(1,2*len(x_list)):\n",
    "        prod=1\n",
    "        for j in range(0,i):\n",
    "                prod=prod*(x-z[j])\n",
    "        sum=sum+Q[i][i]*prod\n",
    "    return sum"
   ]
  },
  {
   "cell_type": "code",
   "execution_count": 54,
   "metadata": {},
   "outputs": [],
   "source": [
    "#evaluemos el polinomio hallado por diferencias divididas\n",
    "x_array=np.linspace(min(x_list),max(x_list),100)\n",
    "y_array=[]\n",
    "for i in range(0,len(x_array)):\n",
    "    y_array.append(PoliHermite(x_list,y_list,x_array[i]))"
   ]
  },
  {
   "cell_type": "code",
   "execution_count": 55,
   "metadata": {},
   "outputs": [
    {
     "data": {
      "image/png": "[encoded data removed]",
      "text/plain": [
       "<Figure size 432x288 with 1 Axes>"
      ]
     },
     "metadata": {
      "needs_background": "light"
     },
     "output_type": "display_data"
    }
   ],
   "source": [
    "#grafiquemos\n",
    "fig=plt.figure()\n",
    "ax=plt.axes()\n",
    "ax.plot(x_list,y_list,\"*\")\n",
    "ax.plot(x_array,y_array)\n",
    "plt.grid()\n",
    "plt.show()"
   ]
  },
  {
   "cell_type": "code",
   "execution_count": 59,
   "metadata": {},
   "outputs": [
    {
     "name": "stdout",
     "output_type": "stream",
     "text": [
      "error=0.00000000000001  %\n",
      "0.9927129910375886\n",
      "0.9927129910375885\n"
     ]
    }
   ],
   "source": [
    "#determinemos el error e un punto de el polinomio interpolante vs la funcion real\n",
    "y_der=PoliHermite(x_list,y_list,1.45)\n",
    "y_exac=f(1.45)\n",
    "error=abs((y_der-y_exac)/y_exac*100)\n",
    "print(\"error=%.14f \"%(error),\"%\")\n",
    "print(PoliHermite(x_list,y_list,1.45))\n",
    "print(f(1.45))"
   ]
  },
  {
   "cell_type": "markdown",
   "metadata": {},
   "source": [
    "# Hermite como función "
   ]
  },
  {
   "cell_type": "code",
   "execution_count": 2,
   "metadata": {},
   "outputs": [
    {
     "data": {
      "text/plain": [
       "[<matplotlib.lines.Line2D at 0x7f739c470898>]"
      ]
     },
     "execution_count": 2,
     "metadata": {},
     "output_type": "execute_result"
    },
    {
     "data": {
      "image/png": "[encoded data removed]",
      "text/plain": [
       "<matplotlib.figure.Figure at 0x7f73b4a837b8>"
      ]
     },
     "metadata": {},
     "output_type": "display_data"
    }
   ],
   "source": [
    "import numpy as np\n",
    "import matplotlib.pyplot as plt\n",
    "\n",
    "\n",
    "x_list = [1.3,1.6,1.9]\n",
    "y_list = [0.6200860,0.4554022,0.2818186]\n",
    "dydx_list = [-0.5220232,-0.5698959,-0.5811571]\n",
    "\n",
    "\n",
    "Q = np.zeros((2*len(x_list),2*len(x_list)))\n",
    "Z = np.zeros(2*len(x_list))\n",
    "\n",
    "for i in range(0,len(x_list)):\n",
    "    Z[2*i]      = x_list[i]\n",
    "    Z[2*i+1]    = x_list[i]\n",
    "    Q[2*i][0]   = y_list[i]\n",
    "    Q[2*i+1][0] = y_list[i]\n",
    "    Q[2*i+1][1] = dydx_list[i]\n",
    "    if i!=0:\n",
    "        Q[2*i][1] = (Q[2*i][0]-Q[2*i-1][0]) / (Z[2*i]-Z[2*i-1])\n",
    "        \n",
    "for i in range(2,len(Z)):\n",
    "    for j in range(2,i+1):\n",
    "        Q[i][j] = (Q[i][j-1]-Q[i-1][j-1]) / (Z[i]-Z[i-j])\n",
    "\n",
    "\n",
    "\n",
    "def PolyHermite(x):\n",
    "    sum = 0\n",
    "    for i in range(1,len(Z)):\n",
    "        prod = 1.0\n",
    "        for j in range(0,i):\n",
    "            prod = prod*(x-Z[j])\n",
    "        sum=sum+Q[i][i]*prod\n",
    "    H = Q[0][0]+sum \n",
    "    return H\n",
    "            \n",
    "\n",
    "x_array=np.linspace(min(x_list),max(x_list),100)\n",
    "y_array=[]\n",
    "\n",
    "for i in range(0,len(x_array)):\n",
    "    y_array.append(PolyHermite(x_array[i]))\n",
    "    \n",
    "fig=plt.figure()\n",
    "ax=plt.axes()\n",
    "ax.plot(x_list,y_list,'*')\n",
    "ax.plot(x_array,y_array)"
   ]
  },
  {
   "cell_type": "code",
   "execution_count": null,
   "metadata": {},
   "outputs": [],
   "source": []
  }
 ],
 "metadata": {
  "kernelspec": {
   "display_name": "Python 3",
   "language": "python",
   "name": "python3"
  },
  "language_info": {
   "codemirror_mode": {
    "name": "ipython",
    "version": 3
   },
   "file_extension": ".py",
   "mimetype": "text/x-python",
   "name": "python",
   "nbconvert_exporter": "python",
   "pygments_lexer": "ipython3",
   "version": "3.6.4"
  }
 },
 "nbformat": 4,
 "nbformat_minor": 2
}
