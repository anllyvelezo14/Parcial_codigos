{
 "cells": [
  {
   "cell_type": "markdown",
   "metadata": {},
   "source": [
    "# Interpolación vía polinomios de Lagrange"
   ]
  },
  {
   "cell_type": "code",
   "execution_count": 1,
   "metadata": {},
   "outputs": [],
   "source": [
    "import numpy as np\n",
    "import matplotlib.pyplot as plt"
   ]
  },
  {
   "cell_type": "code",
   "execution_count": 11,
   "metadata": {},
   "outputs": [],
   "source": [
    "#funcion a interpolar\n",
    "def f(x):\n",
    "    return np.cos(x)"
   ]
  },
  {
   "cell_type": "code",
   "execution_count": 12,
   "metadata": {},
   "outputs": [],
   "source": [
    "#puntos experimentales\n",
    "x_list=[0,0.6,0.9]\n",
    "y_list=[f(0),f(.6),f(.9)]"
   ]
  },
  {
   "cell_type": "code",
   "execution_count": 13,
   "metadata": {},
   "outputs": [],
   "source": [
    "#Polinomio de lagrange\n",
    "def PoliLagrange(x_list,y_list,x):\n",
    "    sum=0\n",
    "    for i in range(0,len(x_list)):\n",
    "        prod=1\n",
    "        for j in range(0,len(x_list)):\n",
    "            if(j!=i):\n",
    "                prod=prod*(x-x_list[j])/(x_list[i]-x_list[j])\n",
    "        sum=sum+y_list[i]*prod\n",
    "    return sum\n",
    "\n"
   ]
  },
  {
   "cell_type": "code",
   "execution_count": 31,
   "metadata": {},
   "outputs": [],
   "source": [
    "#evaluemos el polinomio de lagrange\n",
    "x_array=np.linspace(min(x_list)-5,max(x_list)+5,10)\n",
    "y_array=[]\n",
    "for i in range(0,len(x_array)):\n",
    "    y_array.append(PoliLagrange(x_list,y_list,x_array[i]))"
   ]
  },
  {
   "cell_type": "code",
   "execution_count": 32,
   "metadata": {},
   "outputs": [
    {
     "data": {
      "image/png": "[encoded data removed]",
      "text/plain": [
       "<matplotlib.figure.Figure at 0x7f841c305a20>"
      ]
     },
     "metadata": {},
     "output_type": "display_data"
    }
   ],
   "source": [
    "#grafiquemos\n",
    "fig=plt.figure()\n",
    "ax=plt.axes()\n",
    "ax.plot(x_list,y_list,\"*\")\n",
    "ax.plot(x_array,y_array,\"g\")\n",
    "plt.grid()\n",
    "plt.show()"
   ]
  },
  {
   "cell_type": "code",
   "execution_count": 33,
   "metadata": {},
   "outputs": [
    {
     "name": "stdout",
     "output_type": "stream",
     "text": [
      "error=  4957.165821236425\n",
      "-42.4332385841802\n",
      "-0.8390715290764524\n"
     ]
    }
   ],
   "source": [
    "#determinemos el error e un punto de el polinomio interpolante vs la funcion real\n",
    "y_der=PoliLagrange(x_list,y_list,10)\n",
    "y_exac=f(10)\n",
    "error=abs((y_der-y_exac)/y_exac*100)\n",
    "print(\"error= \",error)\n",
    "print(y_der)\n",
    "print(y_exac)"
   ]
  },
  {
   "cell_type": "code",
   "execution_count": 34,
   "metadata": {},
   "outputs": [
    {
     "name": "stdout",
     "output_type": "stream",
     "text": [
      "error=  3489.558505402789\n",
      "poli=  -9.61489573398022\n",
      "f(x)=  0.28366218546322625 \n",
      "\n",
      "error=  535.0089715841867\n",
      "poli=  -5.065575587051512\n",
      "f(x)=  -0.7977171683754612 \n",
      "\n",
      "error=  110.69993648939116\n",
      "poli=  -1.780883357899711\n",
      "f(x)=  -0.8452225413885587 \n",
      "\n",
      "error=  17.988798210761775\n",
      "poli=  0.239180953475155\n",
      "f(x)=  0.202714967100444 \n",
      "\n",
      "error=  0.6773521618134175\n",
      "poli=  0.9946173470730977\n",
      "f(x)=  0.9879256115859121 \n",
      "\n",
      "error=  1.485263693358633\n",
      "poli=  0.4854258228941143\n",
      "f(x)=  0.4927443762151037 \n",
      "\n",
      "error=  100.98061832895252\n",
      "poli=  -1.288393619061793\n",
      "f(x)=  -0.6410536646638388 \n",
      "\n",
      "error=  358.3420810657797\n",
      "poli=  -4.326840978794632\n",
      "f(x)=  -0.9440200142071743 \n",
      "\n",
      "error=  36626.28520228618\n",
      "poli=  -8.629916256304384\n",
      "f(x)=  -0.02349792855109446 \n",
      "\n",
      "error=  1630.7762402842666\n",
      "poli=  -14.197619451591066\n",
      "f(x)=  0.9274784307440359 \n",
      "\n"
     ]
    }
   ],
   "source": [
    "#error para cada valor interpolado\n",
    "\n",
    "for i in range(0,len(x_array)):\n",
    "    y_der=PoliLagrange(x_list,y_list,x_array[i])\n",
    "    y_exac=f(x_array[i])\n",
    "    error=abs((y_der-y_exac)/y_exac*100)\n",
    "    print(\"error= \",error)\n",
    "    print(\"poli= \",y_der)\n",
    "    print(\"f(x)= \",y_exac,\"\\n\")"
   ]
  },
  {
   "cell_type": "markdown",
   "metadata": {},
   "source": [
    "# Subiendo datos experimentales"
   ]
  },
  {
   "cell_type": "code",
   "execution_count": null,
   "metadata": {},
   "outputs": [],
   "source": [
    "import numpy as np\n",
    "import matplotlib.pyplot as plt\n",
    "\n",
    "datos=np.loadtxt(\"radius.dat\")\n",
    "x_list=[]\n",
    "y_list=[]\n",
    "for i in range(0,15):\n",
    "    x_list.append(datos[i][0])\n",
    "    y_list.append(datos[i][1])\n",
    "    \n",
    "\n",
    "    def PolyLagrange(x_list,y_list,x):\n",
    "    sum=0\n",
    "    for i in range(0,len(x_list)):\n",
    "        prod=1\n",
    "        for j in range(0,len(x_list)):\n",
    "            if(i!=j):\n",
    "                prod=prod*(x-x_list[j])/(x_list[i]-x_list[j])\n",
    "        sum=sum+prod*y_list[i]\n",
    "    return sum\n",
    "        \n",
    "print(PolyLagrange(x_list,y_list,2))\n",
    "\n",
    "\n",
    "\n",
    "x_array=np.linspace(min(x_list),max(x_list),100)\n",
    "y_array=[]\n",
    "for i in range(0,len(x_array)):\n",
    "    y_array.append(PolyLagrange(x_list,y_list,x_array[i]))\n",
    "    \n",
    "    \n",
    "fig=plt.figure()\n",
    "ax=plt.axes()\n",
    "ax.plot(x_list,y_list,'*')\n",
    "ax.plot(x_array,y_array,'-')\n",
    "#ax.set_yscale(\"log\")\n",
    "\n"
   ]
  }
 ],
 "metadata": {
  "kernelspec": {
   "display_name": "Python 3",
   "language": "python",
   "name": "python3"
  },
  "language_info": {
   "codemirror_mode": {
    "name": "ipython",
    "version": 3
   },
   "file_extension": ".py",
   "mimetype": "text/x-python",
   "name": "python",
   "nbconvert_exporter": "python",
   "pygments_lexer": "ipython3",
   "version": "3.6.4"
  }
 },
 "nbformat": 4,
 "nbformat_minor": 2
}
